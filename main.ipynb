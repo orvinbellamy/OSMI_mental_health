{
  "cells": [
    {
      "cell_type": "markdown",
      "metadata": {
        "id": "gbA6W7Ka4-BO"
      },
      "source": [
        "# Mental Health Interference at Work Using Machine Learning"
      ]
    },
    {
      "cell_type": "markdown",
      "metadata": {},
      "source": [
        "Contributors: Orvin Bellamy, Isha Goyal, Elodie Garguilo\n",
        "\n",
        "Python Version 3.8.8\n",
        "\n",
        "Dataset by Open Sourcing Mental Illness, LTD\\\n",
        "https://www.kaggle.com/osmi/mental-health-in-tech-survey \\\n",
        "https://osmihelp.org/about/about-osmi\n",
        "\n",
        "Refer to the kaggle page for the data dictionary of this dataset\n",
        "\n",
        "Objective:\\\n",
        "This machine learning model is used to predict whether employees' mental health conditions interfere with their work based on OSMI's survey filled by employees. Features derived from the employee's and company's profile are used against the 'work_interfere' variable as label.\n",
        "\n",
        "Note that given the small dataset size, labels classes have to be collapsed into 2 (binary) classes. More information about data preprocessing can be read below.\n",
        "\n",
        "Some data discoveries and visualziation is done via simple Tableau bar charts available as a Tableau Workbook & .ppt file in this git."
      ]
    },
    {
      "cell_type": "markdown",
      "metadata": {},
      "source": [
        "# Import Packages"
      ]
    },
    {
      "cell_type": "code",
      "execution_count": 1,
      "metadata": {
        "id": "EtZi2kdWXreo"
      },
      "outputs": [],
      "source": [
        "# Import Packages\n",
        "\n",
        "# For pre-processing\n",
        "import pandas as pd\n",
        "from sklearn.pipeline import Pipeline\n",
        "from sklearn.impute import SimpleImputer\n",
        "from sklearn.preprocessing import OneHotEncoder\n",
        "from sklearn.compose import ColumnTransformer\n",
        "from sklearn.model_selection import train_test_split\n",
        "\n",
        "# For building models\n",
        "from sklearn.dummy import DummyClassifier\n",
        "from sklearn.tree import DecisionTreeClassifier\n",
        "from sklearn.model_selection import cross_validate\n",
        "from sklearn.svm import SVC\n",
        "from sklearn.model_selection import GridSearchCV\n",
        "from sklearn.model_selection import RandomizedSearchCV\n",
        "from sklearn.neighbors import KNeighborsClassifier\n",
        "\n",
        "#For accessing models \n",
        "from sklearn.metrics import classification_report\n",
        "from sklearn.metrics import confusion_matrix\n",
        "from sklearn.metrics import ConfusionMatrixDisplay\n",
        "import matplotlib.pyplot as plt"
      ]
    },
    {
      "cell_type": "markdown",
      "metadata": {
        "id": "TdRL6aAmDjcE"
      },
      "source": [
        "# Pre-processing\n"
      ]
    },
    {
      "cell_type": "code",
      "execution_count": 2,
      "metadata": {
        "colab": {
          "base_uri": "https://localhost:8080/",
          "height": 357
        },
        "id": "d5XUFa4MDwfn",
        "outputId": "819ef86b-21d1-4573-ae1e-283102c99293"
      },
      "outputs": [],
      "source": [
        "# Reading the dataset\n",
        "df = pd.read_csv('survey.csv')\n",
        "# df.head()"
      ]
    },
    {
      "cell_type": "markdown",
      "metadata": {},
      "source": [
        "Dataset discovery, uncomment to use"
      ]
    },
    {
      "cell_type": "code",
      "execution_count": null,
      "metadata": {
        "colab": {
          "base_uri": "https://localhost:8080/"
        },
        "id": "8Lgpt0mN8dkU",
        "outputId": "7c01433c-ec91-47f0-8858-6f9d576302ce"
      },
      "outputs": [],
      "source": [
        "# print(\"Different age groups: \\n\")\n",
        "# print(df['Age'].unique())\n",
        "# print(\"\\n \\n \\n\")\n",
        "# print(\"Different gender notations are: \\n\")\n",
        "# print(df['Gender'].unique())"
      ]
    },
    {
      "cell_type": "markdown",
      "metadata": {},
      "source": [
        "Note that there are faulty data entries in the 'Age' column. Observations with age older than 100 or younger than 15 years old are removed.\n",
        "\n",
        "Data entry for 'Gender' is also not controlled. Gender is not used as Feature in the original model, but it has been cleaned into two classes ('Male', 'Female') in case it will be used in the future."
      ]
    },
    {
      "cell_type": "code",
      "execution_count": 3,
      "metadata": {
        "id": "9nr8UDQcw8YL"
      },
      "outputs": [],
      "source": [
        "# Fixing the Age and Gender columns\n",
        "df.drop(df[df['Age'] > 100].index, inplace = True)\n",
        "df.drop(df[df['Age'] < 15].index, inplace = True)\n",
        "\n",
        "df['Gender'].replace(['Male ', 'male', 'Man', 'cis male','Male', 'Cis Male',\n",
        "                      'M', 'm', 'Mail', 'Malr', 'Mal', 'Male (CIS)',\n",
        "                      'Cis Man', 'msle', 'Male-ish', 'maile', 'Make',], 'Male', inplace = True)\n",
        "\n",
        "df['Gender'].replace(['Female ', 'female', 'femail', 'Cis Female', 'Woman', 'Female',\n",
        "                     'F', 'f', 'cis-female/femme', 'Femake', 'Female (cis)',\n",
        "                     'woman',], 'Female', inplace = True)\n",
        "\n",
        "df['Gender'].replace( ['Female (trans)', 'fluid', 'queer', 'non-binary',\n",
        "                      'queer/she/they','Androgyne', 'Trans-female', 'male leaning androgynous',\n",
        "                     'ostensibly male, unsure what that really means',\n",
        "                      'Agender', 'A little about you', 'Nah', 'All',\n",
        "                      'Guy (-ish) ^_^', 'Trans woman',\n",
        "                      'Genderqueer', 'Enby', 'p', 'Neuter', 'something kinda male?', ],'Other',inplace = True)"
      ]
    },
    {
      "cell_type": "markdown",
      "metadata": {},
      "source": [
        "Removing variables not used for features. Edit the code below to include/exclude variables to be used for features."
      ]
    },
    {
      "cell_type": "code",
      "execution_count": 4,
      "metadata": {
        "id": "fp5ch_J2hTxS"
      },
      "outputs": [],
      "source": [
        "df.drop(['Timestamp', 'Age', 'Gender', 'Country', 'state', 'self_employed',\n",
        "        'no_employees', 'seek_help', 'care_options',\n",
        "        'tech_company',  'leave', 'phys_health_consequence', 'coworkers',\n",
        "        'mental_health_interview', 'phys_health_interview',\n",
        "       'mental_vs_physical', 'comments'],axis = 1, inplace = True)"
      ]
    },
    {
      "cell_type": "code",
      "execution_count": 5,
      "metadata": {
        "colab": {
          "base_uri": "https://localhost:8080/"
        },
        "id": "XkgN2JzGiFD_",
        "outputId": "1fb0a1c4-8d0d-480c-f676-7790c5adf39b"
      },
      "outputs": [
        {
          "data": {
            "text/plain": [
              "Index(['family_history', 'treatment', 'work_interfere', 'remote_work',\n",
              "       'benefits', 'wellness_program', 'anonymity',\n",
              "       'mental_health_consequence', 'supervisor', 'obs_consequence'],\n",
              "      dtype='object')"
            ]
          },
          "execution_count": 5,
          "metadata": {},
          "output_type": "execute_result"
        }
      ],
      "source": [
        "df.columns"
      ]
    },
    {
      "cell_type": "markdown",
      "metadata": {},
      "source": [
        "Dropping null values"
      ]
    },
    {
      "cell_type": "code",
      "execution_count": 6,
      "metadata": {
        "id": "0g8qtTuG2sns"
      },
      "outputs": [],
      "source": [
        "# dropping the null values\n",
        "df.dropna(inplace = True)"
      ]
    },
    {
      "cell_type": "markdown",
      "metadata": {},
      "source": [
        "Note that the label 'work_interfere' used in this model has 4 classes ('Often', 'Sometimes', 'Rarely', 'Never'. 'NA' are dropped because it is assumed respondents who pick 'NA' do not claim to have mental health condition), which doesn't produce good predictive power. This is likely attributed to insufficient training data.\n",
        "\n",
        "Another model is built with the label 'work_interfere' collapsed into 2 classes ('Yes' = 'Often', 'Sometimes'; 'No' = 'Rarely', 'Never').\n",
        "\n",
        "df --> original label\\\n",
        "df_bin --> binned label"
      ]
    },
    {
      "cell_type": "code",
      "execution_count": 7,
      "metadata": {
        "id": "L5fagF8NM-C9"
      },
      "outputs": [],
      "source": [
        "# Creating a dataframe copy for binning\n",
        "df_bin = df.copy(deep=True)\n",
        "df_bin.loc[df_bin['work_interfere'] == \"Often\", 'work_interfere'] = \"Yes\"\n",
        "df_bin.loc[df_bin['work_interfere'] == \"Sometimes\", 'work_interfere'] = \"Yes\"\n",
        "df_bin.loc[df_bin['work_interfere'] == \"Rarely\", 'work_interfere'] = \"No\"\n",
        "df_bin.loc[df_bin['work_interfere'] == \"Never\", 'work_interfere'] = \"No\""
      ]
    },
    {
      "cell_type": "code",
      "execution_count": 8,
      "metadata": {
        "id": "1YAm-QHahj7r"
      },
      "outputs": [],
      "source": [
        "df_bin.dropna(inplace = True)"
      ]
    },
    {
      "cell_type": "markdown",
      "metadata": {},
      "source": [
        "Splitting data for training and testing. Random_state is fixed for reproducibility, recommend removing random_state to simulate model performance multiple times."
      ]
    },
    {
      "cell_type": "code",
      "execution_count": 9,
      "metadata": {
        "id": "OEfV-Hla2vWK"
      },
      "outputs": [],
      "source": [
        "# Splitting the dataset before processing to follow The Golden Rule\n",
        "train_df, test_df = train_test_split(df, test_size=0.25, random_state=99)\n",
        "X_train = train_df.drop(columns=[\"work_interfere\"])\n",
        "y_train = train_df[\"work_interfere\"]\n",
        "X_test = test_df.drop(columns=[\"work_interfere\"])\n",
        "y_test = test_df[\"work_interfere\"]"
      ]
    },
    {
      "cell_type": "code",
      "execution_count": 10,
      "metadata": {
        "id": "sI7F06r3NJJM"
      },
      "outputs": [],
      "source": [
        "# Splitting for the binned dataset\n",
        "train_df_bin, test_df_bin = train_test_split(df_bin, test_size=0.25, random_state=99)\n",
        "X_train_bin = train_df_bin.drop(columns=[\"work_interfere\"])\n",
        "y_train_bin = train_df_bin[\"work_interfere\"]\n",
        "X_test_bin = test_df_bin.drop(columns=[\"work_interfere\"])\n",
        "y_test_bin = test_df_bin[\"work_interfere\"]"
      ]
    },
    {
      "cell_type": "markdown",
      "metadata": {},
      "source": [
        "Preprocessing pipeline\n",
        "\n",
        "col_transformer is for normal label\\\n",
        "col_transformer_bin is for binned label"
      ]
    },
    {
      "cell_type": "code",
      "execution_count": 11,
      "metadata": {
        "id": "V7BKvX7S23cY"
      },
      "outputs": [],
      "source": [
        "# creating the column tansformer\n",
        "categorical_features = X_train.select_dtypes('object').columns"
      ]
    },
    {
      "cell_type": "code",
      "execution_count": 12,
      "metadata": {
        "id": "d5wuamF626PG"
      },
      "outputs": [],
      "source": [
        "categorical_transformer = Pipeline(\n",
        "    steps=[(\"imputer\", SimpleImputer(strategy=\"constant\",fill_value=\"missing\")),\n",
        "           (\"onehot\", OneHotEncoder(sparse=False, handle_unknown='ignore'))]\n",
        ")"
      ]
    },
    {
      "cell_type": "code",
      "execution_count": 13,
      "metadata": {
        "id": "Gp2jDw3Z3Gzi"
      },
      "outputs": [],
      "source": [
        "col_transformer = ColumnTransformer(\n",
        "    transformers=[\n",
        "        (\"categorical\", categorical_transformer, categorical_features)\n",
        "    ],\n",
        "    remainder='passthrough'\n",
        ")"
      ]
    },
    {
      "cell_type": "code",
      "execution_count": 14,
      "metadata": {
        "id": "sHvk82XENnlg"
      },
      "outputs": [],
      "source": [
        "# Column Transformer for the binned dataset\n",
        "categorical_features_bin = X_train_bin.select_dtypes('object').columns\n",
        "\n",
        "categorical_transformer_bin = Pipeline(\n",
        "    steps=[(\"imputer\", SimpleImputer(strategy=\"constant\",fill_value=\"missing\")),\n",
        "           (\"onehot\", OneHotEncoder(sparse=False, handle_unknown='ignore'))]\n",
        ")\n",
        "\n",
        "col_transformer_bin = ColumnTransformer(\n",
        "    transformers=[\n",
        "        (\"categorical\", categorical_transformer_bin, categorical_features_bin)\n",
        "    ],\n",
        "    remainder='passthrough'\n",
        ")"
      ]
    },
    {
      "cell_type": "markdown",
      "metadata": {
        "id": "2nbtIhO7_yUY"
      },
      "source": [
        "# Model"
      ]
    },
    {
      "cell_type": "markdown",
      "metadata": {},
      "source": [
        "Dummy model"
      ]
    },
    {
      "cell_type": "code",
      "execution_count": 15,
      "metadata": {
        "colab": {
          "base_uri": "https://localhost:8080/"
        },
        "id": "_WuhDGNfD32c",
        "outputId": "290c3095-136c-4d21-dfbd-26ae043c19d5"
      },
      "outputs": [
        {
          "name": "stdout",
          "output_type": "stream",
          "text": [
            "Normal label score:  0.4838709677419355\n",
            "Binary label score:  0.6169354838709677\n"
          ]
        }
      ],
      "source": [
        "# Create a dummy model for normal label and binary label\n",
        "\n",
        "dummy = DummyClassifier(strategy='most_frequent')\n",
        "dummy.fit(X_train, y_train)\n",
        "\n",
        "dummy_bin = DummyClassifier(strategy='most_frequent')\n",
        "dummy_bin.fit(X_train_bin, y_train_bin)\n",
        "\n",
        "print(\"Normal label score: \", dummy.score(X_test, y_test))\n",
        "print(\"Binary label score: \", dummy_bin.score(X_test_bin, y_test_bin))"
      ]
    },
    {
      "cell_type": "markdown",
      "metadata": {},
      "source": [
        "3 pipelines for hyperparameter optimization\n",
        "\n",
        "1 pipeline for normal labels (SVC), 2 pipelines for binned labels (SVC, decision tree)"
      ]
    },
    {
      "cell_type": "code",
      "execution_count": 16,
      "metadata": {
        "id": "xUbPXEKIO0Af"
      },
      "outputs": [],
      "source": [
        "# Create pipelines for hyperparameter optimization\n",
        "\n",
        "## For normal labels\n",
        "pipe_sv = Pipeline(\n",
        "    steps=[('columntransformer', col_transformer),\n",
        "           ('svc', SVC())]\n",
        ")\n",
        "\n",
        "## For binary labels\n",
        "pipe_sv_bin = Pipeline(\n",
        "    steps=[('columntransformer', col_transformer_bin),\n",
        "           ('svc', SVC())]\n",
        ")\n",
        "\n",
        "pipe_dt_bin = Pipeline(\n",
        "    steps=[('columntransformer', col_transformer_bin),\n",
        "           ('dtc', DecisionTreeClassifier())]\n",
        ")"
      ]
    },
    {
      "cell_type": "markdown",
      "metadata": {
        "id": "0m_xjQwW8JXN"
      },
      "source": [
        "Model for Normal Labels"
      ]
    },
    {
      "cell_type": "code",
      "execution_count": 17,
      "metadata": {
        "colab": {
          "base_uri": "https://localhost:8080/"
        },
        "id": "NhRpAT5mOsE7",
        "outputId": "91e5d69d-35f0-4380-c1cc-716b3611744d"
      },
      "outputs": [
        {
          "name": "stdout",
          "output_type": "stream",
          "text": [
            "SVC test score:  0.5645161290322581\n"
          ]
        }
      ],
      "source": [
        "# Create an SVC model\n",
        "\n",
        "# set a param\n",
        "param = {'svc__gamma': [0.01, 0.1, 1, 10, 100, 1000], 'svc__C': [0.01, 0.1, 1, 10, 100, 1000]}\n",
        "\n",
        "# Set random_search\n",
        "# model should be changed to pipe\n",
        "sv_grid = GridSearchCV(pipe_sv, param, cv=10, n_jobs=-1, return_train_score=True)\n",
        "sv_grid.fit(X_train, y_train)\n",
        "\n",
        "sv_grid_result = pd.DataFrame(sv_grid.cv_results_)[[\"params\", \"mean_test_score\", \"mean_train_score\", \"rank_test_score\"]].sort_values(by='rank_test_score')\n",
        "\n",
        "# get best parameter\n",
        "svc_gamma = sv_grid.best_params_['svc__gamma']\n",
        "svc_C = sv_grid.best_params_['svc__C']\n",
        "\n",
        "# Create new pipeline with optimized hyperparameter\n",
        "svc = Pipeline(\n",
        "    steps=[('columntransformer', col_transformer),\n",
        "          ('svc', SVC(gamma=svc_gamma, C=svc_C))]\n",
        ")\n",
        "\n",
        "# # Train and test the model\n",
        "svc.fit(X_train, y_train)\n",
        "svc_testscore = svc.score(X_test, y_test)\n",
        "print('SVC test score: ', svc_testscore)"
      ]
    },
    {
      "cell_type": "code",
      "execution_count": null,
      "metadata": {},
      "outputs": [],
      "source": [
        "# Uncomment the line below to see the grid search result\n",
        "# sv_grid_result"
      ]
    },
    {
      "cell_type": "markdown",
      "metadata": {
        "id": "aTfP-mlkAGHb"
      },
      "source": [
        "Model for binary labels"
      ]
    },
    {
      "cell_type": "code",
      "execution_count": 18,
      "metadata": {
        "colab": {
          "base_uri": "https://localhost:8080/"
        },
        "id": "LJTCI1mg2LdA",
        "outputId": "5fad2df2-8a84-4a88-875c-523a2ff0c2a9"
      },
      "outputs": [
        {
          "name": "stdout",
          "output_type": "stream",
          "text": [
            "Dec tree test score:  0.7379032258064516\n"
          ]
        }
      ],
      "source": [
        "# Create a decision tree classifier\n",
        "\n",
        "# Set param_grid\n",
        "param_grid = {'dtc__min_samples_split': list(range(10, 101))}\n",
        "\n",
        "# Do gridsearchCV\n",
        "dt_grid_bin = GridSearchCV(pipe_dt_bin, param_grid, cv=10, n_jobs=-1, return_train_score=True)\n",
        "dt_grid_bin.fit(X_train_bin, y_train_bin)\n",
        "\n",
        "dt_grid_bin_result = pd.DataFrame(dt_grid_bin.cv_results_)[[\"params\", \"mean_test_score\", \"mean_train_score\", \"rank_test_score\"]].sort_values(by='rank_test_score')\n",
        "#dt_grid_result\n",
        "\n",
        "# get best parameter\n",
        "hp_min_split_bin = dt_grid_bin.best_params_['dtc__min_samples_split']\n",
        "#hp_min_split\n",
        "\n",
        "# Create new pipeline with optimized hyperparameter\n",
        "dec_tree_bin = Pipeline(\n",
        "    steps=[('columntransformer', col_transformer_bin),\n",
        "           ('dtc', DecisionTreeClassifier(min_samples_split=hp_min_split_bin))]\n",
        ")\n",
        "\n",
        "# # Train and test the model\n",
        "dec_tree_bin.fit(X_train_bin, y_train_bin)\n",
        "dec_tree_bin_testscore = dec_tree_bin.score(X_test_bin, y_test_bin)\n",
        "print('Dec tree test score: ', dec_tree_bin_testscore)"
      ]
    },
    {
      "cell_type": "code",
      "execution_count": null,
      "metadata": {},
      "outputs": [],
      "source": [
        "# Uncomment the line below to see the grid search result\n",
        "# dt_grid_bin"
      ]
    },
    {
      "cell_type": "code",
      "execution_count": 19,
      "metadata": {
        "colab": {
          "base_uri": "https://localhost:8080/"
        },
        "id": "MMmj0HeyBDAB",
        "outputId": "af269826-2f75-4119-8b28-314728c605f5"
      },
      "outputs": [
        {
          "name": "stdout",
          "output_type": "stream",
          "text": [
            "SVC test score:  0.7379032258064516\n"
          ]
        }
      ],
      "source": [
        "# Create an SVC model\n",
        "\n",
        "# set a param\n",
        "param = {'svc__gamma': [0.01, 0.1, 1, 10, 100, 1000], 'svc__C': [0.01, 0.1, 1, 10, 100, 1000]}\n",
        "\n",
        "# Set random_search\n",
        "# model should be changed to pipe\n",
        "sv_grid_bin = GridSearchCV(pipe_sv_bin, param, cv=10, n_jobs=-1, return_train_score=True)\n",
        "sv_grid_bin.fit(X_train_bin, y_train_bin)\n",
        "\n",
        "sv_grid_bin_result = pd.DataFrame(sv_grid_bin.cv_results_)[[\"params\", \"mean_test_score\", \"mean_train_score\", \"rank_test_score\"]].sort_values(by='rank_test_score')\n",
        "\n",
        "# get best parameter\n",
        "svc_gamma_bin = sv_grid_bin.best_params_['svc__gamma']\n",
        "svc_C_bin = sv_grid_bin.best_params_['svc__C']\n",
        "\n",
        "# Create new pipeline with optimized hyperparameter\n",
        "svc_bin = Pipeline(\n",
        "    steps=[('columntransformer', col_transformer_bin),\n",
        "           ('svc', SVC(gamma=svc_gamma_bin, C=svc_C_bin))]\n",
        ")\n",
        "\n",
        "# # Train and test the model\n",
        "svc_bin.fit(X_train_bin, y_train_bin)\n",
        "svc_bin_testscore = svc_bin.score(X_test_bin, y_test_bin)\n",
        "print('SVC test score: ', svc_bin_testscore)"
      ]
    },
    {
      "cell_type": "code",
      "execution_count": null,
      "metadata": {},
      "outputs": [],
      "source": [
        "# Uncomment the line below to see the grid search result\n",
        "# sv_grid_bin_result"
      ]
    },
    {
      "cell_type": "markdown",
      "metadata": {},
      "source": [
        "Note that for the binned label, the two models svc_bin and dec_tree_bin produces the exact same test score. This is tested for multiple random_state when splitting the data. No explanation for this phenomenon yet, will investigate further."
      ]
    },
    {
      "cell_type": "markdown",
      "metadata": {
        "id": "No2OC3DyJnn-"
      },
      "source": [
        "## Model Evaluation"
      ]
    },
    {
      "cell_type": "markdown",
      "metadata": {
        "id": "i_5JS-KhL-XO"
      },
      "source": [
        "Model Evaluation : SVC"
      ]
    },
    {
      "cell_type": "code",
      "execution_count": null,
      "metadata": {
        "colab": {
          "base_uri": "https://localhost:8080/"
        },
        "id": "3IW9s6myME16",
        "outputId": "6745256c-1311-4002-82cb-1c32244a781d"
      },
      "outputs": [
        {
          "data": {
            "text/plain": [
              "array([[38,  0,  0,  6],\n",
              "       [ 4,  0,  0, 34],\n",
              "       [12,  0,  0, 31],\n",
              "       [32,  0,  0, 91]])"
            ]
          },
          "execution_count": 37,
          "metadata": {},
          "output_type": "execute_result"
        }
      ],
      "source": [
        "# confusion matrix to visualize the performance of the algorithm.\n",
        "predictions_svc = svc.predict(X_test)\n",
        "cm_svc = confusion_matrix(y_test, predictions_svc)\n",
        "# cm_svc"
      ]
    },
    {
      "cell_type": "markdown",
      "metadata": {},
      "source": [
        "Note the confusion matrix below. The model only predicts \"Sometimes\" and \"Never\". This is likely attributed to the small training data. An experiment was done where all observations where 'work_interfere' = 'Sometimes' is removed and all the remaining classes can be predicted. This is another reason why collapsing the label into 2 classes is preferred."
      ]
    },
    {
      "cell_type": "code",
      "execution_count": null,
      "metadata": {
        "colab": {
          "base_uri": "https://localhost:8080/",
          "height": 303
        },
        "id": "tsH1hxgckObk",
        "outputId": "2ff2bd7b-6f7f-4c58-a9ec-5847a75a8a67"
      },
      "outputs": [
        {
          "data": {
            "text/plain": [
              "<sklearn.metrics._plot.confusion_matrix.ConfusionMatrixDisplay at 0x7f997cf7c690>"
            ]
          },
          "execution_count": 39,
          "metadata": {},
          "output_type": "execute_result"
        },
        {
          "data": {
            "image/png": "[encoded data removed]",
            "text/plain": [
              "<Figure size 432x288 with 2 Axes>"
            ]
          },
          "metadata": {
            "needs_background": "light"
          },
          "output_type": "display_data"
        }
      ],
      "source": [
        "# Confusion Matrix plot \n",
        "\n",
        "plt.rc('font', size=12) # bigger font sizes\n",
        "ConfusionMatrixDisplay(cm_svc, display_labels=[\"Never\",\"Rarely\",\"Often\",\"Sometimes\"]).plot()"
      ]
    },
    {
      "cell_type": "code",
      "execution_count": null,
      "metadata": {
        "colab": {
          "base_uri": "https://localhost:8080/"
        },
        "id": "oc6ez_NGg06e",
        "outputId": "c738b51c-2486-422b-f72a-30aee0dd800a"
      },
      "outputs": [
        {
          "name": "stdout",
          "output_type": "stream",
          "text": [
            "              precision    recall  f1-score   support\n",
            "\n",
            "       Never     0.4419    0.8636    0.5846        44\n",
            "      Rarely     0.0000    0.0000    0.0000        38\n",
            "       Often     0.0000    0.0000    0.0000        43\n",
            "   Sometimes     0.5617    0.7398    0.6386       123\n",
            "\n",
            "    accuracy                         0.5202       248\n",
            "   macro avg     0.2509    0.4009    0.3058       248\n",
            "weighted avg     0.3570    0.5202    0.4204       248\n",
            "\n"
          ]
        },
        {
          "name": "stderr",
          "output_type": "stream",
          "text": [
            "/usr/local/lib/python3.7/dist-packages/sklearn/metrics/_classification.py:1318: UndefinedMetricWarning: Precision and F-score are ill-defined and being set to 0.0 in labels with no predicted samples. Use `zero_division` parameter to control this behavior.\n",
            "  _warn_prf(average, modifier, msg_start, len(result))\n",
            "/usr/local/lib/python3.7/dist-packages/sklearn/metrics/_classification.py:1318: UndefinedMetricWarning: Precision and F-score are ill-defined and being set to 0.0 in labels with no predicted samples. Use `zero_division` parameter to control this behavior.\n",
            "  _warn_prf(average, modifier, msg_start, len(result))\n",
            "/usr/local/lib/python3.7/dist-packages/sklearn/metrics/_classification.py:1318: UndefinedMetricWarning: Precision and F-score are ill-defined and being set to 0.0 in labels with no predicted samples. Use `zero_division` parameter to control this behavior.\n",
            "  _warn_prf(average, modifier, msg_start, len(result))\n"
          ]
        }
      ],
      "source": [
        "# Classification Report  \n",
        "print(classification_report(\n",
        "        y_test,\n",
        "        svc.predict(X_test),digits=4,\n",
        "        target_names=[\"Never\", \"Rarely\", \"Often\",\"Sometimes\"]))"
      ]
    },
    {
      "cell_type": "code",
      "execution_count": null,
      "metadata": {
        "colab": {
          "base_uri": "https://localhost:8080/"
        },
        "id": "Ci9hpCQHll6Z",
        "outputId": "eebe31d9-0a94-46fe-fcea-55423fd12f8d"
      },
      "outputs": [
        {
          "data": {
            "text/plain": [
              "Sometimes    0.460189\n",
              "Never        0.226721\n",
              "Rarely       0.175439\n",
              "Often        0.137652\n",
              "Name: work_interfere, dtype: float64"
            ]
          },
          "execution_count": 41,
          "metadata": {},
          "output_type": "execute_result"
        }
      ],
      "source": [
        "# Check for classification balance\n",
        "y_train.value_counts('work_interfere')"
      ]
    },
    {
      "cell_type": "markdown",
      "metadata": {
        "id": "FL2UrAo0J1uA"
      },
      "source": [
        "### Model Evaluation : Dec Tree Bin"
      ]
    },
    {
      "cell_type": "code",
      "execution_count": null,
      "metadata": {
        "colab": {
          "base_uri": "https://localhost:8080/"
        },
        "id": "VrrVgcO8J_HB",
        "outputId": "14e900b6-e721-4e79-892b-bf913478db22"
      },
      "outputs": [
        {
          "data": {
            "text/plain": [
              "array([[ 46,  50],\n",
              "       [ 22, 130]])"
            ]
          },
          "execution_count": 42,
          "metadata": {},
          "output_type": "execute_result"
        }
      ],
      "source": [
        "# confusion matrix to visualize the performance of the algorithm.\n",
        "predictions_dt = dec_tree_bin.predict(X_test_bin)\n",
        "cm_dt = confusion_matrix(y_test_bin, predictions_dt)\n",
        "cm_dt"
      ]
    },
    {
      "cell_type": "code",
      "execution_count": null,
      "metadata": {
        "colab": {
          "base_uri": "https://localhost:8080/",
          "height": 303
        },
        "id": "DNbNO84yK-qJ",
        "outputId": "525006a8-1cd5-44e3-d548-095315c63db9"
      },
      "outputs": [
        {
          "data": {
            "text/plain": [
              "<sklearn.metrics._plot.confusion_matrix.ConfusionMatrixDisplay at 0x7f997c9bd350>"
            ]
          },
          "execution_count": 43,
          "metadata": {},
          "output_type": "execute_result"
        },
        {
          "data": {
            "image/png": "[encoded data removed]",
            "text/plain": [
              "<Figure size 432x288 with 2 Axes>"
            ]
          },
          "metadata": {
            "needs_background": "light"
          },
          "output_type": "display_data"
        }
      ],
      "source": [
        "# Confusion Matrix plot \n",
        "\n",
        "plt.rc('font', size=12) # bigger font sizes\n",
        "ConfusionMatrixDisplay(cm_dt, display_labels=[\"No\", \"Yes\"]).plot()"
      ]
    },
    {
      "cell_type": "code",
      "execution_count": null,
      "metadata": {
        "colab": {
          "base_uri": "https://localhost:8080/"
        },
        "id": "60qfGyjjLaf5",
        "outputId": "cb663896-7346-4fae-8c3f-e01cff637ba0"
      },
      "outputs": [
        {
          "name": "stdout",
          "output_type": "stream",
          "text": [
            "              precision    recall  f1-score   support\n",
            "\n",
            "          No     0.6765    0.4792    0.5610        96\n",
            "         Yes     0.7222    0.8553    0.7831       152\n",
            "\n",
            "    accuracy                         0.7097       248\n",
            "   macro avg     0.6993    0.6672    0.6721       248\n",
            "weighted avg     0.7045    0.7097    0.6971       248\n",
            "\n"
          ]
        }
      ],
      "source": [
        "# Classification Report  - Dec Tree Model\n",
        "print(classification_report(\n",
        "        y_test_bin,\n",
        "        dec_tree_bin.predict(X_test_bin),digits=4,\n",
        "        target_names=[\"No\", \"Yes\"]))"
      ]
    },
    {
      "cell_type": "markdown",
      "metadata": {
        "id": "1XdO5AM-Jntm"
      },
      "source": [
        "### Model Evaluation : SVC_bin"
      ]
    },
    {
      "cell_type": "code",
      "execution_count": null,
      "metadata": {
        "colab": {
          "base_uri": "https://localhost:8080/"
        },
        "id": "22vuWbUALix6",
        "outputId": "b149a4b0-5cdb-4b90-b582-e2b33cddf87b"
      },
      "outputs": [
        {
          "data": {
            "text/plain": [
              "array([[ 46,  50],\n",
              "       [ 22, 130]])"
            ]
          },
          "execution_count": 45,
          "metadata": {},
          "output_type": "execute_result"
        }
      ],
      "source": [
        "# confusion matrix on SVC_bin to visualize the performance of the algorithm.svc_bin.fit(X_train_bin, y_train_bin)\n",
        "predictions = svc_bin.predict(X_test_bin)\n",
        "cm = confusion_matrix(y_test_bin, predictions)\n",
        "cm"
      ]
    },
    {
      "cell_type": "code",
      "execution_count": null,
      "metadata": {
        "colab": {
          "base_uri": "https://localhost:8080/",
          "height": 303
        },
        "id": "QHNpx37hMlgI",
        "outputId": "1321e344-1091-4f59-afb1-1d9a0f3da4a3"
      },
      "outputs": [
        {
          "data": {
            "text/plain": [
              "<sklearn.metrics._plot.confusion_matrix.ConfusionMatrixDisplay at 0x7f997c940250>"
            ]
          },
          "execution_count": 46,
          "metadata": {},
          "output_type": "execute_result"
        },
        {
          "data": {
            "image/png": "[encoded data removed]",
            "text/plain": [
              "<Figure size 432x288 with 2 Axes>"
            ]
          },
          "metadata": {
            "needs_background": "light"
          },
          "output_type": "display_data"
        }
      ],
      "source": [
        "# Confusion Matrix plot SVC_bin\n",
        "\n",
        "plt.rc('font', size=12) # bigger font sizes\n",
        "ConfusionMatrixDisplay(cm, display_labels=[\"No\", \"Yes\"]).plot()"
      ]
    },
    {
      "cell_type": "code",
      "execution_count": null,
      "metadata": {
        "colab": {
          "base_uri": "https://localhost:8080/"
        },
        "id": "ACeTO9rRNL-X",
        "outputId": "7a606237-a682-4040-849e-7ab4835eba5b"
      },
      "outputs": [
        {
          "name": "stdout",
          "output_type": "stream",
          "text": [
            "              precision    recall  f1-score   support\n",
            "\n",
            "          No     0.6765    0.4792    0.5610        96\n",
            "         Yes     0.7222    0.8553    0.7831       152\n",
            "\n",
            "    accuracy                         0.7097       248\n",
            "   macro avg     0.6993    0.6672    0.6721       248\n",
            "weighted avg     0.7045    0.7097    0.6971       248\n",
            "\n"
          ]
        }
      ],
      "source": [
        "# Classification Report  - SVC_bin Model\n",
        "print(classification_report(\n",
        "        y_test_bin,\n",
        "        svc_bin.predict(X_test_bin),digits=4,\n",
        "        target_names=[\"No\", \"Yes\"]))"
      ]
    },
    {
      "cell_type": "code",
      "execution_count": null,
      "metadata": {
        "colab": {
          "base_uri": "https://localhost:8080/"
        },
        "id": "PqPnURFFNaDN",
        "outputId": "4c15f2fc-7435-4e5d-a2b7-ebfaef228968"
      },
      "outputs": [
        {
          "data": {
            "text/plain": [
              "Yes    0.609987\n",
              "No     0.390013\n",
              "Name: work_interfere, dtype: float64"
            ]
          },
          "execution_count": 48,
          "metadata": {},
          "output_type": "execute_result"
        }
      ],
      "source": [
        "# Check for classification balance\n",
        "y_train_bin.value_counts('work_interfere')"
      ]
    }
  ],
  "metadata": {
    "colab": {
      "collapsed_sections": [],
      "name": "BAIT 509.ipynb",
      "provenance": []
    },
    "kernelspec": {
      "display_name": "Python 3",
      "name": "python3"
    },
    "language_info": {
      "codemirror_mode": {
        "name": "ipython",
        "version": 3
      },
      "file_extension": ".py",
      "mimetype": "text/x-python",
      "name": "python",
      "nbconvert_exporter": "python",
      "pygments_lexer": "ipython3",
      "version": "3.8.8"
    }
  },
  "nbformat": 4,
  "nbformat_minor": 0
}
